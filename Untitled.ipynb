{
 "cells": [
  {
   "cell_type": "code",
   "execution_count": 1,
   "id": "56b80e84",
   "metadata": {},
   "outputs": [],
   "source": [
    "import pandas as pd\n",
    "import numpy as np\n",
    "import seaborn as sns\n",
    "import matplotlib.pyplot as plt\n",
    "%matplotlib inline"
   ]
  },
  {
   "cell_type": "markdown",
   "id": "f70b69f2",
   "metadata": {},
   "source": [
    "# Exploring Data"
   ]
  },
  {
   "cell_type": "code",
   "execution_count": 2,
   "id": "45a9fe48",
   "metadata": {},
   "outputs": [],
   "source": [
    "data = pd.read_csv('bikes.csv', index_col=0)"
   ]
  },
  {
   "cell_type": "code",
   "execution_count": 3,
   "id": "ef9b5446",
   "metadata": {},
   "outputs": [
    {
     "data": {
      "text/html": [
       "<div>\n",
       "<style scoped>\n",
       "    .dataframe tbody tr th:only-of-type {\n",
       "        vertical-align: middle;\n",
       "    }\n",
       "\n",
       "    .dataframe tbody tr th {\n",
       "        vertical-align: top;\n",
       "    }\n",
       "\n",
       "    .dataframe thead th {\n",
       "        text-align: right;\n",
       "    }\n",
       "</style>\n",
       "<table border=\"1\" class=\"dataframe\">\n",
       "  <thead>\n",
       "    <tr style=\"text-align: right;\">\n",
       "      <th></th>\n",
       "      <th>Model Name</th>\n",
       "      <th>Price</th>\n",
       "      <th>CC</th>\n",
       "      <th>Mileage</th>\n",
       "      <th>Weight</th>\n",
       "      <th>Links</th>\n",
       "    </tr>\n",
       "  </thead>\n",
       "  <tbody>\n",
       "    <tr>\n",
       "      <th>0</th>\n",
       "      <td>Royal Enfield Himalayan</td>\n",
       "      <td>₹ 2,10,784</td>\n",
       "      <td>411.0 CC</td>\n",
       "      <td>45 Km/l</td>\n",
       "      <td>191 Kg</td>\n",
       "      <td>https://www.carandbike.com/royal-enfield-bikes...</td>\n",
       "    </tr>\n",
       "    <tr>\n",
       "      <th>1</th>\n",
       "      <td>Royal Enfield Classic Chrome</td>\n",
       "      <td>₹ 1,88,868</td>\n",
       "      <td>499.0 CC</td>\n",
       "      <td>27 Km/l</td>\n",
       "      <td>194 Kg</td>\n",
       "      <td>https://www.carandbike.com/royal-enfield-bikes...</td>\n",
       "    </tr>\n",
       "    <tr>\n",
       "      <th>2</th>\n",
       "      <td>Royal Enfield Meteor 350</td>\n",
       "      <td>₹ 2,05,844</td>\n",
       "      <td>349.0 CC</td>\n",
       "      <td>41.88 Km/l</td>\n",
       "      <td>183 Kg</td>\n",
       "      <td>https://www.carandbike.com/royal-enfield-bikes...</td>\n",
       "    </tr>\n",
       "    <tr>\n",
       "      <th>3</th>\n",
       "      <td>Royal Enfield Bullet 350</td>\n",
       "      <td>₹ 1,27,094</td>\n",
       "      <td>346.0 CC</td>\n",
       "      <td>45 Km/l</td>\n",
       "      <td>183 Kg</td>\n",
       "      <td>https://www.carandbike.com/royal-enfield-bikes...</td>\n",
       "    </tr>\n",
       "    <tr>\n",
       "      <th>4</th>\n",
       "      <td>Hero Splendor +</td>\n",
       "      <td>₹ 69,380</td>\n",
       "      <td>97.2 CC</td>\n",
       "      <td>70 Km/l</td>\n",
       "      <td>110 Kg</td>\n",
       "      <td>https://www.carandbike.com/hero-bikes/splendor...</td>\n",
       "    </tr>\n",
       "    <tr>\n",
       "      <th>...</th>\n",
       "      <td>...</td>\n",
       "      <td>...</td>\n",
       "      <td>...</td>\n",
       "      <td>...</td>\n",
       "      <td>...</td>\n",
       "      <td>...</td>\n",
       "    </tr>\n",
       "    <tr>\n",
       "      <th>3584</th>\n",
       "      <td>Royal Enfield Classic 350</td>\n",
       "      <td>₹ 1,84,374</td>\n",
       "      <td>349.0 CC</td>\n",
       "      <td>37 Km/l</td>\n",
       "      <td>195 Kg</td>\n",
       "      <td>https://www.carandbike.com/royal-enfield-bikes...</td>\n",
       "    </tr>\n",
       "    <tr>\n",
       "      <th>3585</th>\n",
       "      <td>Yamaha MT-15</td>\n",
       "      <td>₹ 1,44,900</td>\n",
       "      <td>155.0 CC</td>\n",
       "      <td>48 Km/l</td>\n",
       "      <td>138 Kg</td>\n",
       "      <td>https://www.carandbike.com/yamaha-bikes/mt-15</td>\n",
       "    </tr>\n",
       "    <tr>\n",
       "      <th>3586</th>\n",
       "      <td>Honda Dio</td>\n",
       "      <td>₹ 64,510</td>\n",
       "      <td>109.5 CC</td>\n",
       "      <td>55 Km/l</td>\n",
       "      <td>103 Kg</td>\n",
       "      <td>https://www.carandbike.com/honda-bikes/dio</td>\n",
       "    </tr>\n",
       "    <tr>\n",
       "      <th>3587</th>\n",
       "      <td>Honda SP 125</td>\n",
       "      <td>₹ 78,381</td>\n",
       "      <td>124.0 CC</td>\n",
       "      <td>65 Km/l</td>\n",
       "      <td>117 Kg</td>\n",
       "      <td>https://www.carandbike.com/honda-bikes/sp-125</td>\n",
       "    </tr>\n",
       "    <tr>\n",
       "      <th>3588</th>\n",
       "      <td>Hero HF Deluxe</td>\n",
       "      <td>₹ 48,950</td>\n",
       "      <td>97.2 CC</td>\n",
       "      <td>83 Km/l</td>\n",
       "      <td>109 Kg</td>\n",
       "      <td>https://www.carandbike.com/hero-bikes/hf-deluxe</td>\n",
       "    </tr>\n",
       "  </tbody>\n",
       "</table>\n",
       "<p>3589 rows × 6 columns</p>\n",
       "</div>"
      ],
      "text/plain": [
       "                        Model Name       Price        CC     Mileage  Weight  \\\n",
       "0          Royal Enfield Himalayan  ₹ 2,10,784  411.0 CC     45 Km/l  191 Kg   \n",
       "1     Royal Enfield Classic Chrome  ₹ 1,88,868  499.0 CC     27 Km/l  194 Kg   \n",
       "2         Royal Enfield Meteor 350  ₹ 2,05,844  349.0 CC  41.88 Km/l  183 Kg   \n",
       "3         Royal Enfield Bullet 350  ₹ 1,27,094  346.0 CC     45 Km/l  183 Kg   \n",
       "4                  Hero Splendor +    ₹ 69,380   97.2 CC     70 Km/l  110 Kg   \n",
       "...                            ...         ...       ...         ...     ...   \n",
       "3584     Royal Enfield Classic 350  ₹ 1,84,374  349.0 CC     37 Km/l  195 Kg   \n",
       "3585                  Yamaha MT-15  ₹ 1,44,900  155.0 CC     48 Km/l  138 Kg   \n",
       "3586                     Honda Dio    ₹ 64,510  109.5 CC     55 Km/l  103 Kg   \n",
       "3587                  Honda SP 125    ₹ 78,381  124.0 CC     65 Km/l  117 Kg   \n",
       "3588                Hero HF Deluxe    ₹ 48,950   97.2 CC     83 Km/l  109 Kg   \n",
       "\n",
       "                                                  Links  \n",
       "0     https://www.carandbike.com/royal-enfield-bikes...  \n",
       "1     https://www.carandbike.com/royal-enfield-bikes...  \n",
       "2     https://www.carandbike.com/royal-enfield-bikes...  \n",
       "3     https://www.carandbike.com/royal-enfield-bikes...  \n",
       "4     https://www.carandbike.com/hero-bikes/splendor...  \n",
       "...                                                 ...  \n",
       "3584  https://www.carandbike.com/royal-enfield-bikes...  \n",
       "3585      https://www.carandbike.com/yamaha-bikes/mt-15  \n",
       "3586         https://www.carandbike.com/honda-bikes/dio  \n",
       "3587      https://www.carandbike.com/honda-bikes/sp-125  \n",
       "3588    https://www.carandbike.com/hero-bikes/hf-deluxe  \n",
       "\n",
       "[3589 rows x 6 columns]"
      ]
     },
     "execution_count": 3,
     "metadata": {},
     "output_type": "execute_result"
    }
   ],
   "source": [
    "data"
   ]
  },
  {
   "cell_type": "code",
   "execution_count": 4,
   "id": "a7fe5a7a",
   "metadata": {},
   "outputs": [
    {
     "data": {
      "text/html": [
       "<div>\n",
       "<style scoped>\n",
       "    .dataframe tbody tr th:only-of-type {\n",
       "        vertical-align: middle;\n",
       "    }\n",
       "\n",
       "    .dataframe tbody tr th {\n",
       "        vertical-align: top;\n",
       "    }\n",
       "\n",
       "    .dataframe thead th {\n",
       "        text-align: right;\n",
       "    }\n",
       "</style>\n",
       "<table border=\"1\" class=\"dataframe\">\n",
       "  <thead>\n",
       "    <tr style=\"text-align: right;\">\n",
       "      <th></th>\n",
       "      <th>Model Name</th>\n",
       "      <th>Price</th>\n",
       "      <th>CC</th>\n",
       "      <th>Mileage</th>\n",
       "      <th>Weight</th>\n",
       "      <th>Links</th>\n",
       "    </tr>\n",
       "  </thead>\n",
       "  <tbody>\n",
       "    <tr>\n",
       "      <th>0</th>\n",
       "      <td>Royal Enfield Himalayan</td>\n",
       "      <td>₹ 2,10,784</td>\n",
       "      <td>411.0 CC</td>\n",
       "      <td>45 Km/l</td>\n",
       "      <td>191 Kg</td>\n",
       "      <td>https://www.carandbike.com/royal-enfield-bikes...</td>\n",
       "    </tr>\n",
       "    <tr>\n",
       "      <th>1</th>\n",
       "      <td>Royal Enfield Classic Chrome</td>\n",
       "      <td>₹ 1,88,868</td>\n",
       "      <td>499.0 CC</td>\n",
       "      <td>27 Km/l</td>\n",
       "      <td>194 Kg</td>\n",
       "      <td>https://www.carandbike.com/royal-enfield-bikes...</td>\n",
       "    </tr>\n",
       "    <tr>\n",
       "      <th>2</th>\n",
       "      <td>Royal Enfield Meteor 350</td>\n",
       "      <td>₹ 2,05,844</td>\n",
       "      <td>349.0 CC</td>\n",
       "      <td>41.88 Km/l</td>\n",
       "      <td>183 Kg</td>\n",
       "      <td>https://www.carandbike.com/royal-enfield-bikes...</td>\n",
       "    </tr>\n",
       "    <tr>\n",
       "      <th>3</th>\n",
       "      <td>Royal Enfield Bullet 350</td>\n",
       "      <td>₹ 1,27,094</td>\n",
       "      <td>346.0 CC</td>\n",
       "      <td>45 Km/l</td>\n",
       "      <td>183 Kg</td>\n",
       "      <td>https://www.carandbike.com/royal-enfield-bikes...</td>\n",
       "    </tr>\n",
       "    <tr>\n",
       "      <th>4</th>\n",
       "      <td>Hero Splendor +</td>\n",
       "      <td>₹ 69,380</td>\n",
       "      <td>97.2 CC</td>\n",
       "      <td>70 Km/l</td>\n",
       "      <td>110 Kg</td>\n",
       "      <td>https://www.carandbike.com/hero-bikes/splendor...</td>\n",
       "    </tr>\n",
       "    <tr>\n",
       "      <th>5</th>\n",
       "      <td>Honda CB Shine</td>\n",
       "      <td>₹ 72,787</td>\n",
       "      <td>124.7 CC</td>\n",
       "      <td>65 Km/l</td>\n",
       "      <td>114 Kg</td>\n",
       "      <td>https://www.carandbike.com/honda-bikes/cb-shine</td>\n",
       "    </tr>\n",
       "    <tr>\n",
       "      <th>6</th>\n",
       "      <td>Honda Activa 6G</td>\n",
       "      <td>₹ 69,645</td>\n",
       "      <td>109.5 CC</td>\n",
       "      <td>45 Km/l</td>\n",
       "      <td>107 Kg</td>\n",
       "      <td>https://www.carandbike.com/honda-bikes/activa-6g</td>\n",
       "    </tr>\n",
       "    <tr>\n",
       "      <th>7</th>\n",
       "      <td>Royal Enfield Classic 350</td>\n",
       "      <td>₹ 1,84,374</td>\n",
       "      <td>349.0 CC</td>\n",
       "      <td>37 Km/l</td>\n",
       "      <td>195 Kg</td>\n",
       "      <td>https://www.carandbike.com/royal-enfield-bikes...</td>\n",
       "    </tr>\n",
       "    <tr>\n",
       "      <th>8</th>\n",
       "      <td>Yamaha MT-15</td>\n",
       "      <td>₹ 1,44,900</td>\n",
       "      <td>155.0 CC</td>\n",
       "      <td>48 Km/l</td>\n",
       "      <td>138 Kg</td>\n",
       "      <td>https://www.carandbike.com/yamaha-bikes/mt-15</td>\n",
       "    </tr>\n",
       "    <tr>\n",
       "      <th>9</th>\n",
       "      <td>Honda Dio</td>\n",
       "      <td>₹ 64,510</td>\n",
       "      <td>109.5 CC</td>\n",
       "      <td>55 Km/l</td>\n",
       "      <td>103 Kg</td>\n",
       "      <td>https://www.carandbike.com/honda-bikes/dio</td>\n",
       "    </tr>\n",
       "  </tbody>\n",
       "</table>\n",
       "</div>"
      ],
      "text/plain": [
       "                     Model Name       Price        CC     Mileage  Weight  \\\n",
       "0       Royal Enfield Himalayan  ₹ 2,10,784  411.0 CC     45 Km/l  191 Kg   \n",
       "1  Royal Enfield Classic Chrome  ₹ 1,88,868  499.0 CC     27 Km/l  194 Kg   \n",
       "2      Royal Enfield Meteor 350  ₹ 2,05,844  349.0 CC  41.88 Km/l  183 Kg   \n",
       "3      Royal Enfield Bullet 350  ₹ 1,27,094  346.0 CC     45 Km/l  183 Kg   \n",
       "4               Hero Splendor +    ₹ 69,380   97.2 CC     70 Km/l  110 Kg   \n",
       "5                Honda CB Shine    ₹ 72,787  124.7 CC     65 Km/l  114 Kg   \n",
       "6               Honda Activa 6G    ₹ 69,645  109.5 CC     45 Km/l  107 Kg   \n",
       "7     Royal Enfield Classic 350  ₹ 1,84,374  349.0 CC     37 Km/l  195 Kg   \n",
       "8                  Yamaha MT-15  ₹ 1,44,900  155.0 CC     48 Km/l  138 Kg   \n",
       "9                     Honda Dio    ₹ 64,510  109.5 CC     55 Km/l  103 Kg   \n",
       "\n",
       "                                               Links  \n",
       "0  https://www.carandbike.com/royal-enfield-bikes...  \n",
       "1  https://www.carandbike.com/royal-enfield-bikes...  \n",
       "2  https://www.carandbike.com/royal-enfield-bikes...  \n",
       "3  https://www.carandbike.com/royal-enfield-bikes...  \n",
       "4  https://www.carandbike.com/hero-bikes/splendor...  \n",
       "5    https://www.carandbike.com/honda-bikes/cb-shine  \n",
       "6   https://www.carandbike.com/honda-bikes/activa-6g  \n",
       "7  https://www.carandbike.com/royal-enfield-bikes...  \n",
       "8      https://www.carandbike.com/yamaha-bikes/mt-15  \n",
       "9         https://www.carandbike.com/honda-bikes/dio  "
      ]
     },
     "execution_count": 4,
     "metadata": {},
     "output_type": "execute_result"
    }
   ],
   "source": [
    "data.head(10)"
   ]
  },
  {
   "cell_type": "code",
   "execution_count": 5,
   "id": "f3255d8c",
   "metadata": {},
   "outputs": [
    {
     "name": "stdout",
     "output_type": "stream",
     "text": [
      "<class 'pandas.core.frame.DataFrame'>\n",
      "Int64Index: 3589 entries, 0 to 3588\n",
      "Data columns (total 6 columns):\n",
      " #   Column      Non-Null Count  Dtype \n",
      "---  ------      --------------  ----- \n",
      " 0   Model Name  3589 non-null   object\n",
      " 1   Price       3589 non-null   object\n",
      " 2   CC          3533 non-null   object\n",
      " 3   Mileage     3559 non-null   object\n",
      " 4   Weight      3589 non-null   object\n",
      " 5   Links       3589 non-null   object\n",
      "dtypes: object(6)\n",
      "memory usage: 196.3+ KB\n"
     ]
    }
   ],
   "source": [
    "data.info()"
   ]
  },
  {
   "cell_type": "markdown",
   "id": "aa3d2137",
   "metadata": {},
   "source": [
    "There are 6 columns in this dataset:\n",
    "1. Model Name - Shows the name of the motorbike.\n",
    "2. Price - Depicts the price of motorbike in Indian Rupees.\n",
    "3. CC - Engine displacement of each bike.\n",
    "4. Mileage - Shows the claimed mileage in km/L.\n",
    "5. weight - Weight in kg.\n",
    "6. Links - 3rd party autoblogs for additional details and further reading. "
   ]
  },
  {
   "cell_type": "markdown",
   "id": "8dc3df53",
   "metadata": {},
   "source": [
    "# Data Cleaning #"
   ]
  },
  {
   "cell_type": "markdown",
   "id": "e3e6c374",
   "metadata": {},
   "source": [
    "Check for duplicate values in our dataset"
   ]
  },
  {
   "cell_type": "code",
   "execution_count": 6,
   "id": "8e331327",
   "metadata": {},
   "outputs": [
    {
     "data": {
      "text/plain": [
       "0       False\n",
       "1       False\n",
       "2       False\n",
       "3       False\n",
       "4       False\n",
       "        ...  \n",
       "3584     True\n",
       "3585     True\n",
       "3586     True\n",
       "3587     True\n",
       "3588     True\n",
       "Length: 3589, dtype: bool"
      ]
     },
     "execution_count": 6,
     "metadata": {},
     "output_type": "execute_result"
    }
   ],
   "source": [
    "data.duplicated()"
   ]
  },
  {
   "cell_type": "code",
   "execution_count": 7,
   "id": "5739a7d8",
   "metadata": {},
   "outputs": [
    {
     "data": {
      "text/html": [
       "<div>\n",
       "<style scoped>\n",
       "    .dataframe tbody tr th:only-of-type {\n",
       "        vertical-align: middle;\n",
       "    }\n",
       "\n",
       "    .dataframe tbody tr th {\n",
       "        vertical-align: top;\n",
       "    }\n",
       "\n",
       "    .dataframe thead th {\n",
       "        text-align: right;\n",
       "    }\n",
       "</style>\n",
       "<table border=\"1\" class=\"dataframe\">\n",
       "  <thead>\n",
       "    <tr style=\"text-align: right;\">\n",
       "      <th></th>\n",
       "      <th>Model Name</th>\n",
       "      <th>Price</th>\n",
       "      <th>CC</th>\n",
       "      <th>Mileage</th>\n",
       "      <th>Weight</th>\n",
       "      <th>Links</th>\n",
       "    </tr>\n",
       "  </thead>\n",
       "  <tbody>\n",
       "    <tr>\n",
       "      <th>12</th>\n",
       "      <td>Royal Enfield Himalayan</td>\n",
       "      <td>₹ 2,10,784</td>\n",
       "      <td>411.0 CC</td>\n",
       "      <td>45 Km/l</td>\n",
       "      <td>191 Kg</td>\n",
       "      <td>https://www.carandbike.com/royal-enfield-bikes...</td>\n",
       "    </tr>\n",
       "    <tr>\n",
       "      <th>13</th>\n",
       "      <td>Royal Enfield Classic Chrome</td>\n",
       "      <td>₹ 1,88,868</td>\n",
       "      <td>499.0 CC</td>\n",
       "      <td>27 Km/l</td>\n",
       "      <td>194 Kg</td>\n",
       "      <td>https://www.carandbike.com/royal-enfield-bikes...</td>\n",
       "    </tr>\n",
       "    <tr>\n",
       "      <th>14</th>\n",
       "      <td>Royal Enfield Meteor 350</td>\n",
       "      <td>₹ 2,05,844</td>\n",
       "      <td>349.0 CC</td>\n",
       "      <td>41.88 Km/l</td>\n",
       "      <td>183 Kg</td>\n",
       "      <td>https://www.carandbike.com/royal-enfield-bikes...</td>\n",
       "    </tr>\n",
       "    <tr>\n",
       "      <th>15</th>\n",
       "      <td>Royal Enfield Bullet 350</td>\n",
       "      <td>₹ 1,27,094</td>\n",
       "      <td>346.0 CC</td>\n",
       "      <td>45 Km/l</td>\n",
       "      <td>183 Kg</td>\n",
       "      <td>https://www.carandbike.com/royal-enfield-bikes...</td>\n",
       "    </tr>\n",
       "    <tr>\n",
       "      <th>16</th>\n",
       "      <td>Hero Splendor +</td>\n",
       "      <td>₹ 69,380</td>\n",
       "      <td>97.2 CC</td>\n",
       "      <td>70 Km/l</td>\n",
       "      <td>110 Kg</td>\n",
       "      <td>https://www.carandbike.com/hero-bikes/splendor...</td>\n",
       "    </tr>\n",
       "    <tr>\n",
       "      <th>...</th>\n",
       "      <td>...</td>\n",
       "      <td>...</td>\n",
       "      <td>...</td>\n",
       "      <td>...</td>\n",
       "      <td>...</td>\n",
       "      <td>...</td>\n",
       "    </tr>\n",
       "    <tr>\n",
       "      <th>3584</th>\n",
       "      <td>Royal Enfield Classic 350</td>\n",
       "      <td>₹ 1,84,374</td>\n",
       "      <td>349.0 CC</td>\n",
       "      <td>37 Km/l</td>\n",
       "      <td>195 Kg</td>\n",
       "      <td>https://www.carandbike.com/royal-enfield-bikes...</td>\n",
       "    </tr>\n",
       "    <tr>\n",
       "      <th>3585</th>\n",
       "      <td>Yamaha MT-15</td>\n",
       "      <td>₹ 1,44,900</td>\n",
       "      <td>155.0 CC</td>\n",
       "      <td>48 Km/l</td>\n",
       "      <td>138 Kg</td>\n",
       "      <td>https://www.carandbike.com/yamaha-bikes/mt-15</td>\n",
       "    </tr>\n",
       "    <tr>\n",
       "      <th>3586</th>\n",
       "      <td>Honda Dio</td>\n",
       "      <td>₹ 64,510</td>\n",
       "      <td>109.5 CC</td>\n",
       "      <td>55 Km/l</td>\n",
       "      <td>103 Kg</td>\n",
       "      <td>https://www.carandbike.com/honda-bikes/dio</td>\n",
       "    </tr>\n",
       "    <tr>\n",
       "      <th>3587</th>\n",
       "      <td>Honda SP 125</td>\n",
       "      <td>₹ 78,381</td>\n",
       "      <td>124.0 CC</td>\n",
       "      <td>65 Km/l</td>\n",
       "      <td>117 Kg</td>\n",
       "      <td>https://www.carandbike.com/honda-bikes/sp-125</td>\n",
       "    </tr>\n",
       "    <tr>\n",
       "      <th>3588</th>\n",
       "      <td>Hero HF Deluxe</td>\n",
       "      <td>₹ 48,950</td>\n",
       "      <td>97.2 CC</td>\n",
       "      <td>83 Km/l</td>\n",
       "      <td>109 Kg</td>\n",
       "      <td>https://www.carandbike.com/hero-bikes/hf-deluxe</td>\n",
       "    </tr>\n",
       "  </tbody>\n",
       "</table>\n",
       "<p>3228 rows × 6 columns</p>\n",
       "</div>"
      ],
      "text/plain": [
       "                        Model Name       Price        CC     Mileage  Weight  \\\n",
       "12         Royal Enfield Himalayan  ₹ 2,10,784  411.0 CC     45 Km/l  191 Kg   \n",
       "13    Royal Enfield Classic Chrome  ₹ 1,88,868  499.0 CC     27 Km/l  194 Kg   \n",
       "14        Royal Enfield Meteor 350  ₹ 2,05,844  349.0 CC  41.88 Km/l  183 Kg   \n",
       "15        Royal Enfield Bullet 350  ₹ 1,27,094  346.0 CC     45 Km/l  183 Kg   \n",
       "16                 Hero Splendor +    ₹ 69,380   97.2 CC     70 Km/l  110 Kg   \n",
       "...                            ...         ...       ...         ...     ...   \n",
       "3584     Royal Enfield Classic 350  ₹ 1,84,374  349.0 CC     37 Km/l  195 Kg   \n",
       "3585                  Yamaha MT-15  ₹ 1,44,900  155.0 CC     48 Km/l  138 Kg   \n",
       "3586                     Honda Dio    ₹ 64,510  109.5 CC     55 Km/l  103 Kg   \n",
       "3587                  Honda SP 125    ₹ 78,381  124.0 CC     65 Km/l  117 Kg   \n",
       "3588                Hero HF Deluxe    ₹ 48,950   97.2 CC     83 Km/l  109 Kg   \n",
       "\n",
       "                                                  Links  \n",
       "12    https://www.carandbike.com/royal-enfield-bikes...  \n",
       "13    https://www.carandbike.com/royal-enfield-bikes...  \n",
       "14    https://www.carandbike.com/royal-enfield-bikes...  \n",
       "15    https://www.carandbike.com/royal-enfield-bikes...  \n",
       "16    https://www.carandbike.com/hero-bikes/splendor...  \n",
       "...                                                 ...  \n",
       "3584  https://www.carandbike.com/royal-enfield-bikes...  \n",
       "3585      https://www.carandbike.com/yamaha-bikes/mt-15  \n",
       "3586         https://www.carandbike.com/honda-bikes/dio  \n",
       "3587      https://www.carandbike.com/honda-bikes/sp-125  \n",
       "3588    https://www.carandbike.com/hero-bikes/hf-deluxe  \n",
       "\n",
       "[3228 rows x 6 columns]"
      ]
     },
     "execution_count": 7,
     "metadata": {},
     "output_type": "execute_result"
    }
   ],
   "source": [
    "data[data.duplicated()]"
   ]
  },
  {
   "cell_type": "markdown",
   "id": "5ea85bd2",
   "metadata": {},
   "source": [
    "90% of rows are duplicates, we need to remove them"
   ]
  },
  {
   "cell_type": "code",
   "execution_count": 8,
   "id": "6ab6b569",
   "metadata": {},
   "outputs": [],
   "source": [
    "data.drop_duplicates(keep='first',inplace= True)"
   ]
  },
  {
   "cell_type": "code",
   "execution_count": 9,
   "id": "febb0400",
   "metadata": {},
   "outputs": [
    {
     "name": "stdout",
     "output_type": "stream",
     "text": [
      "<class 'pandas.core.frame.DataFrame'>\n",
      "Int64Index: 361 entries, 0 to 372\n",
      "Data columns (total 6 columns):\n",
      " #   Column      Non-Null Count  Dtype \n",
      "---  ------      --------------  ----- \n",
      " 0   Model Name  361 non-null    object\n",
      " 1   Price       361 non-null    object\n",
      " 2   CC          305 non-null    object\n",
      " 3   Mileage     331 non-null    object\n",
      " 4   Weight      361 non-null    object\n",
      " 5   Links       361 non-null    object\n",
      "dtypes: object(6)\n",
      "memory usage: 19.7+ KB\n"
     ]
    }
   ],
   "source": [
    "data.info()"
   ]
  },
  {
   "cell_type": "markdown",
   "id": "7d8d50ec",
   "metadata": {},
   "source": [
    "*Creating a new column called brands*"
   ]
  },
  {
   "cell_type": "code",
   "execution_count": 10,
   "id": "670285aa",
   "metadata": {},
   "outputs": [],
   "source": [
    "data['Brand'] = data['Model Name'].apply(lambda model: model.split()[0])"
   ]
  },
  {
   "cell_type": "markdown",
   "id": "fac9af92",
   "metadata": {},
   "source": [
    "Extracting price from price column"
   ]
  },
  {
   "cell_type": "code",
   "execution_count": 11,
   "id": "f25924d8",
   "metadata": {},
   "outputs": [],
   "source": [
    "import re\n",
    "data['Price'] = data.Price.apply(lambda value: float(''.join(re.findall(r'\\d+',value))))"
   ]
  },
  {
   "cell_type": "markdown",
   "id": "4c837247",
   "metadata": {},
   "source": [
    "Converting CC clumn into numeric column"
   ]
  },
  {
   "cell_type": "code",
   "execution_count": 12,
   "id": "e20e0cd3",
   "metadata": {},
   "outputs": [],
   "source": [
    "data.loc[data.CC.notnull(),'CC'] = data.loc[data.CC.notnull(),'CC'].apply(lambda cc: float(cc.split()[0]))"
   ]
  },
  {
   "cell_type": "markdown",
   "id": "f7657648",
   "metadata": {},
   "source": [
    "Creating a new column for electric bikes"
   ]
  },
  {
   "cell_type": "code",
   "execution_count": 13,
   "id": "63e8c35f",
   "metadata": {},
   "outputs": [],
   "source": [
    "data['Electric'] = np.where(data.CC.isnull(),1,0)"
   ]
  },
  {
   "cell_type": "code",
   "execution_count": 14,
   "id": "967f2020",
   "metadata": {},
   "outputs": [],
   "source": [
    "data.loc[data.Mileage.notnull(),'Mileage'] = data.loc[data.Mileage.notnull(),'Mileage'].apply(lambda m1: float(m1.split()[0]))"
   ]
  },
  {
   "cell_type": "markdown",
   "id": "7e418bfe",
   "metadata": {},
   "source": [
    "Converting the datatype of weight column from object to float"
   ]
  },
  {
   "cell_type": "code",
   "execution_count": 15,
   "id": "4b38bbc1",
   "metadata": {},
   "outputs": [],
   "source": [
    "data['Weight'] = data.Weight.apply(lambda w: float(w.split()[0]))"
   ]
  },
  {
   "cell_type": "markdown",
   "id": "3d5a1575",
   "metadata": {},
   "source": [
    "Dropping the links column, as it is not an essential element for our EDA"
   ]
  },
  {
   "cell_type": "code",
   "execution_count": 16,
   "id": "30ea8d7e",
   "metadata": {},
   "outputs": [],
   "source": [
    "data.drop(columns= 'Links', axis= 1, inplace=True)"
   ]
  },
  {
   "cell_type": "code",
   "execution_count": 17,
   "id": "55213e9a",
   "metadata": {},
   "outputs": [
    {
     "data": {
      "text/html": [
       "<div>\n",
       "<style scoped>\n",
       "    .dataframe tbody tr th:only-of-type {\n",
       "        vertical-align: middle;\n",
       "    }\n",
       "\n",
       "    .dataframe tbody tr th {\n",
       "        vertical-align: top;\n",
       "    }\n",
       "\n",
       "    .dataframe thead th {\n",
       "        text-align: right;\n",
       "    }\n",
       "</style>\n",
       "<table border=\"1\" class=\"dataframe\">\n",
       "  <thead>\n",
       "    <tr style=\"text-align: right;\">\n",
       "      <th></th>\n",
       "      <th>Brand</th>\n",
       "      <th>Model Name</th>\n",
       "      <th>Electric</th>\n",
       "      <th>CC</th>\n",
       "      <th>Price</th>\n",
       "      <th>Mileage</th>\n",
       "      <th>Weight</th>\n",
       "    </tr>\n",
       "  </thead>\n",
       "  <tbody>\n",
       "    <tr>\n",
       "      <th>0</th>\n",
       "      <td>Royal</td>\n",
       "      <td>Royal Enfield Himalayan</td>\n",
       "      <td>0</td>\n",
       "      <td>411.0</td>\n",
       "      <td>210784.0</td>\n",
       "      <td>45.0</td>\n",
       "      <td>191.0</td>\n",
       "    </tr>\n",
       "    <tr>\n",
       "      <th>1</th>\n",
       "      <td>Royal</td>\n",
       "      <td>Royal Enfield Classic Chrome</td>\n",
       "      <td>0</td>\n",
       "      <td>499.0</td>\n",
       "      <td>188868.0</td>\n",
       "      <td>27.0</td>\n",
       "      <td>194.0</td>\n",
       "    </tr>\n",
       "    <tr>\n",
       "      <th>2</th>\n",
       "      <td>Royal</td>\n",
       "      <td>Royal Enfield Meteor 350</td>\n",
       "      <td>0</td>\n",
       "      <td>349.0</td>\n",
       "      <td>205844.0</td>\n",
       "      <td>41.88</td>\n",
       "      <td>183.0</td>\n",
       "    </tr>\n",
       "    <tr>\n",
       "      <th>3</th>\n",
       "      <td>Royal</td>\n",
       "      <td>Royal Enfield Bullet 350</td>\n",
       "      <td>0</td>\n",
       "      <td>346.0</td>\n",
       "      <td>127094.0</td>\n",
       "      <td>45.0</td>\n",
       "      <td>183.0</td>\n",
       "    </tr>\n",
       "    <tr>\n",
       "      <th>4</th>\n",
       "      <td>Hero</td>\n",
       "      <td>Hero Splendor +</td>\n",
       "      <td>0</td>\n",
       "      <td>97.2</td>\n",
       "      <td>69380.0</td>\n",
       "      <td>70.0</td>\n",
       "      <td>110.0</td>\n",
       "    </tr>\n",
       "    <tr>\n",
       "      <th>...</th>\n",
       "      <td>...</td>\n",
       "      <td>...</td>\n",
       "      <td>...</td>\n",
       "      <td>...</td>\n",
       "      <td>...</td>\n",
       "      <td>...</td>\n",
       "      <td>...</td>\n",
       "    </tr>\n",
       "    <tr>\n",
       "      <th>368</th>\n",
       "      <td>22Kymco</td>\n",
       "      <td>22Kymco Flow</td>\n",
       "      <td>1</td>\n",
       "      <td>NaN</td>\n",
       "      <td>74740.0</td>\n",
       "      <td>160.0</td>\n",
       "      <td>85.0</td>\n",
       "    </tr>\n",
       "    <tr>\n",
       "      <th>369</th>\n",
       "      <td>Odysse</td>\n",
       "      <td>Odysse Racer</td>\n",
       "      <td>1</td>\n",
       "      <td>NaN</td>\n",
       "      <td>59500.0</td>\n",
       "      <td>70.0</td>\n",
       "      <td>100.0</td>\n",
       "    </tr>\n",
       "    <tr>\n",
       "      <th>370</th>\n",
       "      <td>MV</td>\n",
       "      <td>MV Agusta Brutale 1090</td>\n",
       "      <td>0</td>\n",
       "      <td>1078.0</td>\n",
       "      <td>2102268.0</td>\n",
       "      <td>15.0</td>\n",
       "      <td>183.0</td>\n",
       "    </tr>\n",
       "    <tr>\n",
       "      <th>371</th>\n",
       "      <td>BMW</td>\n",
       "      <td>BMW F900XR</td>\n",
       "      <td>0</td>\n",
       "      <td>895.0</td>\n",
       "      <td>1230000.0</td>\n",
       "      <td>24.0</td>\n",
       "      <td>219.0</td>\n",
       "    </tr>\n",
       "    <tr>\n",
       "      <th>372</th>\n",
       "      <td>BGauss</td>\n",
       "      <td>BGauss A2</td>\n",
       "      <td>1</td>\n",
       "      <td>NaN</td>\n",
       "      <td>52499.0</td>\n",
       "      <td>110.0</td>\n",
       "      <td>88.0</td>\n",
       "    </tr>\n",
       "  </tbody>\n",
       "</table>\n",
       "<p>361 rows × 7 columns</p>\n",
       "</div>"
      ],
      "text/plain": [
       "       Brand                    Model Name  Electric      CC      Price  \\\n",
       "0      Royal       Royal Enfield Himalayan         0   411.0   210784.0   \n",
       "1      Royal  Royal Enfield Classic Chrome         0   499.0   188868.0   \n",
       "2      Royal      Royal Enfield Meteor 350         0   349.0   205844.0   \n",
       "3      Royal      Royal Enfield Bullet 350         0   346.0   127094.0   \n",
       "4       Hero               Hero Splendor +         0    97.2    69380.0   \n",
       "..       ...                           ...       ...     ...        ...   \n",
       "368  22Kymco                  22Kymco Flow         1     NaN    74740.0   \n",
       "369   Odysse                  Odysse Racer         1     NaN    59500.0   \n",
       "370       MV        MV Agusta Brutale 1090         0  1078.0  2102268.0   \n",
       "371      BMW                    BMW F900XR         0   895.0  1230000.0   \n",
       "372   BGauss                     BGauss A2         1     NaN    52499.0   \n",
       "\n",
       "    Mileage  Weight  \n",
       "0      45.0   191.0  \n",
       "1      27.0   194.0  \n",
       "2     41.88   183.0  \n",
       "3      45.0   183.0  \n",
       "4      70.0   110.0  \n",
       "..      ...     ...  \n",
       "368   160.0    85.0  \n",
       "369    70.0   100.0  \n",
       "370    15.0   183.0  \n",
       "371    24.0   219.0  \n",
       "372   110.0    88.0  \n",
       "\n",
       "[361 rows x 7 columns]"
      ]
     },
     "execution_count": 17,
     "metadata": {},
     "output_type": "execute_result"
    }
   ],
   "source": [
    "data = data[['Brand','Model Name','Electric','CC','Price','Mileage','Weight']]\n",
    "data"
   ]
  },
  {
   "cell_type": "markdown",
   "id": "32b137ba",
   "metadata": {},
   "source": [
    "# Missing Values"
   ]
  },
  {
   "cell_type": "code",
   "execution_count": 18,
   "id": "a2f72327",
   "metadata": {},
   "outputs": [
    {
     "data": {
      "text/plain": [
       "Brand          0\n",
       "Model Name     0\n",
       "Electric       0\n",
       "CC            56\n",
       "Price          0\n",
       "Mileage       30\n",
       "Weight         0\n",
       "dtype: int64"
      ]
     },
     "execution_count": 18,
     "metadata": {},
     "output_type": "execute_result"
    }
   ],
   "source": [
    "data.isnull().sum()"
   ]
  },
  {
   "cell_type": "markdown",
   "id": "d9b8b448",
   "metadata": {},
   "source": [
    "There are 2 columns with missing values, let's see if they have any relation with each other or not."
   ]
  },
  {
   "cell_type": "markdown",
   "id": "46eee73d",
   "metadata": {},
   "source": [
    "### There are 3 different categories of missing data:\n",
    "\n",
    "\n",
    " * Missing completely at random (MCAR) - \n",
    "    \n",
    "    There is no relationship between whether a data point is missing and any values in the data set, missing or observed.\n",
    "    \n",
    " \n",
    " * Missing at random (MAR) -   \n",
    "     \n",
    "     The data are missing systematically related to the observed but not the unobserved data. \n",
    "     \n",
    " \n",
    " * Missing not at random (MNAR) - \n",
    " \n",
    "     The data are missing systematically related to unobserved data, that is, the missingness is related to events or factors which are not measured by the researcher. \n",
    "     "
   ]
  },
  {
   "cell_type": "markdown",
   "id": "f70446f8",
   "metadata": {},
   "source": [
    "Next step would be to find out which type of missing data are we dealing with."
   ]
  },
  {
   "cell_type": "code",
   "execution_count": 19,
   "id": "b934fbae",
   "metadata": {},
   "outputs": [
    {
     "data": {
      "text/html": [
       "<div>\n",
       "<style scoped>\n",
       "    .dataframe tbody tr th:only-of-type {\n",
       "        vertical-align: middle;\n",
       "    }\n",
       "\n",
       "    .dataframe tbody tr th {\n",
       "        vertical-align: top;\n",
       "    }\n",
       "\n",
       "    .dataframe thead th {\n",
       "        text-align: right;\n",
       "    }\n",
       "</style>\n",
       "<table border=\"1\" class=\"dataframe\">\n",
       "  <thead>\n",
       "    <tr style=\"text-align: right;\">\n",
       "      <th></th>\n",
       "      <th>Brand</th>\n",
       "      <th>Model Name</th>\n",
       "      <th>Electric</th>\n",
       "      <th>CC</th>\n",
       "      <th>Price</th>\n",
       "      <th>Mileage</th>\n",
       "      <th>Weight</th>\n",
       "    </tr>\n",
       "  </thead>\n",
       "  <tbody>\n",
       "    <tr>\n",
       "      <th>42</th>\n",
       "      <td>Revolt</td>\n",
       "      <td>Revolt RV400</td>\n",
       "      <td>1</td>\n",
       "      <td>NaN</td>\n",
       "      <td>129463.0</td>\n",
       "      <td>150.0</td>\n",
       "      <td>108.0</td>\n",
       "    </tr>\n",
       "    <tr>\n",
       "      <th>79</th>\n",
       "      <td>Hero</td>\n",
       "      <td>Hero Electric Optima HX</td>\n",
       "      <td>1</td>\n",
       "      <td>NaN</td>\n",
       "      <td>55580.0</td>\n",
       "      <td>82.0</td>\n",
       "      <td>73.0</td>\n",
       "    </tr>\n",
       "    <tr>\n",
       "      <th>88</th>\n",
       "      <td>Revolt</td>\n",
       "      <td>Revolt RV300</td>\n",
       "      <td>1</td>\n",
       "      <td>NaN</td>\n",
       "      <td>114264.0</td>\n",
       "      <td>180.0</td>\n",
       "      <td>101.0</td>\n",
       "    </tr>\n",
       "    <tr>\n",
       "      <th>92</th>\n",
       "      <td>Ather</td>\n",
       "      <td>Ather 450</td>\n",
       "      <td>1</td>\n",
       "      <td>NaN</td>\n",
       "      <td>118995.0</td>\n",
       "      <td>100.0</td>\n",
       "      <td>108.0</td>\n",
       "    </tr>\n",
       "    <tr>\n",
       "      <th>96</th>\n",
       "      <td>TVS</td>\n",
       "      <td>TVS iQube</td>\n",
       "      <td>1</td>\n",
       "      <td>NaN</td>\n",
       "      <td>166358.0</td>\n",
       "      <td>75.0</td>\n",
       "      <td>118.0</td>\n",
       "    </tr>\n",
       "  </tbody>\n",
       "</table>\n",
       "</div>"
      ],
      "text/plain": [
       "     Brand               Model Name  Electric   CC     Price Mileage  Weight\n",
       "42  Revolt             Revolt RV400         1  NaN  129463.0   150.0   108.0\n",
       "79    Hero  Hero Electric Optima HX         1  NaN   55580.0    82.0    73.0\n",
       "88  Revolt             Revolt RV300         1  NaN  114264.0   180.0   101.0\n",
       "92   Ather                Ather 450         1  NaN  118995.0   100.0   108.0\n",
       "96     TVS                TVS iQube         1  NaN  166358.0    75.0   118.0"
      ]
     },
     "execution_count": 19,
     "metadata": {},
     "output_type": "execute_result"
    }
   ],
   "source": [
    "data.loc[data['CC'].isnull()].head()"
   ]
  },
  {
   "cell_type": "markdown",
   "id": "927b69a0",
   "metadata": {},
   "source": [
    "We can see bikes which have null values in CC column are electric. So, this is a case of MAR since CC column is related to electric variable."
   ]
  },
  {
   "cell_type": "code",
   "execution_count": 47,
   "id": "d573fd51",
   "metadata": {},
   "outputs": [
    {
     "data": {
      "text/plain": [
       "0"
      ]
     },
     "execution_count": 47,
     "metadata": {},
     "output_type": "execute_result"
    }
   ],
   "source": [
    "data.CC.fillna('N/A',inplace= True)\n",
    "data.CC.isnull().sum()"
   ]
  },
  {
   "cell_type": "code",
   "execution_count": 21,
   "id": "44af9fdc",
   "metadata": {},
   "outputs": [
    {
     "data": {
      "text/html": [
       "<div>\n",
       "<style scoped>\n",
       "    .dataframe tbody tr th:only-of-type {\n",
       "        vertical-align: middle;\n",
       "    }\n",
       "\n",
       "    .dataframe tbody tr th {\n",
       "        vertical-align: top;\n",
       "    }\n",
       "\n",
       "    .dataframe thead th {\n",
       "        text-align: right;\n",
       "    }\n",
       "</style>\n",
       "<table border=\"1\" class=\"dataframe\">\n",
       "  <thead>\n",
       "    <tr style=\"text-align: right;\">\n",
       "      <th></th>\n",
       "      <th>Brand</th>\n",
       "      <th>Model Name</th>\n",
       "      <th>Electric</th>\n",
       "      <th>CC</th>\n",
       "      <th>Price</th>\n",
       "      <th>Mileage</th>\n",
       "      <th>Weight</th>\n",
       "    </tr>\n",
       "  </thead>\n",
       "  <tbody>\n",
       "    <tr>\n",
       "      <th>29</th>\n",
       "      <td>Bajaj</td>\n",
       "      <td>Bajaj Pulsar NS 125</td>\n",
       "      <td>0</td>\n",
       "      <td>124.4</td>\n",
       "      <td>93818.0</td>\n",
       "      <td>NaN</td>\n",
       "      <td>144.0</td>\n",
       "    </tr>\n",
       "    <tr>\n",
       "      <th>39</th>\n",
       "      <td>Hero</td>\n",
       "      <td>Hero XPulse 200 4V</td>\n",
       "      <td>0</td>\n",
       "      <td>199.6</td>\n",
       "      <td>130150.0</td>\n",
       "      <td>NaN</td>\n",
       "      <td>158.0</td>\n",
       "    </tr>\n",
       "    <tr>\n",
       "      <th>44</th>\n",
       "      <td>Royal</td>\n",
       "      <td>Royal Enfield Scram 411</td>\n",
       "      <td>0</td>\n",
       "      <td>411.0</td>\n",
       "      <td>203000.0</td>\n",
       "      <td>NaN</td>\n",
       "      <td>185.0</td>\n",
       "    </tr>\n",
       "    <tr>\n",
       "      <th>65</th>\n",
       "      <td>Yamaha</td>\n",
       "      <td>Yamaha Aerox 155</td>\n",
       "      <td>0</td>\n",
       "      <td>155.0</td>\n",
       "      <td>129000.0</td>\n",
       "      <td>NaN</td>\n",
       "      <td>122.0</td>\n",
       "    </tr>\n",
       "    <tr>\n",
       "      <th>72</th>\n",
       "      <td>Suzuki</td>\n",
       "      <td>Suzuki V-Strom SX 250</td>\n",
       "      <td>0</td>\n",
       "      <td>249.0</td>\n",
       "      <td>211600.0</td>\n",
       "      <td>NaN</td>\n",
       "      <td>167.0</td>\n",
       "    </tr>\n",
       "    <tr>\n",
       "      <th>97</th>\n",
       "      <td>Bajaj</td>\n",
       "      <td>Bajaj Pulsar N250</td>\n",
       "      <td>0</td>\n",
       "      <td>249.1</td>\n",
       "      <td>138000.0</td>\n",
       "      <td>NaN</td>\n",
       "      <td>162.0</td>\n",
       "    </tr>\n",
       "    <tr>\n",
       "      <th>100</th>\n",
       "      <td>Yezdi</td>\n",
       "      <td>Yezdi Roadster</td>\n",
       "      <td>0</td>\n",
       "      <td>334.0</td>\n",
       "      <td>198142.0</td>\n",
       "      <td>NaN</td>\n",
       "      <td>184.0</td>\n",
       "    </tr>\n",
       "    <tr>\n",
       "      <th>115</th>\n",
       "      <td>Yamaha</td>\n",
       "      <td>Yamaha FZ-X</td>\n",
       "      <td>0</td>\n",
       "      <td>149.0</td>\n",
       "      <td>116800.0</td>\n",
       "      <td>NaN</td>\n",
       "      <td>139.0</td>\n",
       "    </tr>\n",
       "    <tr>\n",
       "      <th>136</th>\n",
       "      <td>Honda</td>\n",
       "      <td>Honda CB200X</td>\n",
       "      <td>0</td>\n",
       "      <td>184.4</td>\n",
       "      <td>144500.0</td>\n",
       "      <td>NaN</td>\n",
       "      <td>147.0</td>\n",
       "    </tr>\n",
       "    <tr>\n",
       "      <th>139</th>\n",
       "      <td>Yamaha</td>\n",
       "      <td>Yamaha R15S V3.0</td>\n",
       "      <td>0</td>\n",
       "      <td>155.0</td>\n",
       "      <td>158939.0</td>\n",
       "      <td>NaN</td>\n",
       "      <td>142.0</td>\n",
       "    </tr>\n",
       "    <tr>\n",
       "      <th>160</th>\n",
       "      <td>Yezdi</td>\n",
       "      <td>Yezdi Scrambler</td>\n",
       "      <td>0</td>\n",
       "      <td>334.0</td>\n",
       "      <td>204900.0</td>\n",
       "      <td>NaN</td>\n",
       "      <td>182.0</td>\n",
       "    </tr>\n",
       "    <tr>\n",
       "      <th>169</th>\n",
       "      <td>Yezdi</td>\n",
       "      <td>Yezdi Adventure</td>\n",
       "      <td>0</td>\n",
       "      <td>334.0</td>\n",
       "      <td>209900.0</td>\n",
       "      <td>NaN</td>\n",
       "      <td>188.0</td>\n",
       "    </tr>\n",
       "    <tr>\n",
       "      <th>183</th>\n",
       "      <td>TVS</td>\n",
       "      <td>TVS Apache RTR 165 RP</td>\n",
       "      <td>0</td>\n",
       "      <td>164.9</td>\n",
       "      <td>145001.0</td>\n",
       "      <td>NaN</td>\n",
       "      <td>148.0</td>\n",
       "    </tr>\n",
       "    <tr>\n",
       "      <th>188</th>\n",
       "      <td>Odysse</td>\n",
       "      <td>Odysse Evoqis</td>\n",
       "      <td>1</td>\n",
       "      <td>N/A</td>\n",
       "      <td>157000.0</td>\n",
       "      <td>NaN</td>\n",
       "      <td>200.0</td>\n",
       "    </tr>\n",
       "    <tr>\n",
       "      <th>231</th>\n",
       "      <td>Suzuki</td>\n",
       "      <td>Suzuki V-Strom 650XT</td>\n",
       "      <td>0</td>\n",
       "      <td>645.0</td>\n",
       "      <td>884000.0</td>\n",
       "      <td>NaN</td>\n",
       "      <td>216.0</td>\n",
       "    </tr>\n",
       "    <tr>\n",
       "      <th>261</th>\n",
       "      <td>Triumph</td>\n",
       "      <td>Triumph Trident 660</td>\n",
       "      <td>0</td>\n",
       "      <td>660.0</td>\n",
       "      <td>745000.0</td>\n",
       "      <td>NaN</td>\n",
       "      <td>189.0</td>\n",
       "    </tr>\n",
       "    <tr>\n",
       "      <th>262</th>\n",
       "      <td>Aprilia</td>\n",
       "      <td>Aprilia SXR 160</td>\n",
       "      <td>0</td>\n",
       "      <td>160.0</td>\n",
       "      <td>126000.0</td>\n",
       "      <td>NaN</td>\n",
       "      <td>129.0</td>\n",
       "    </tr>\n",
       "    <tr>\n",
       "      <th>263</th>\n",
       "      <td>Kawasaki</td>\n",
       "      <td>Kawasaki KLX 140G</td>\n",
       "      <td>0</td>\n",
       "      <td>144.0</td>\n",
       "      <td>406600.0</td>\n",
       "      <td>NaN</td>\n",
       "      <td>99.0</td>\n",
       "    </tr>\n",
       "    <tr>\n",
       "      <th>296</th>\n",
       "      <td>BGauss</td>\n",
       "      <td>BGauss D15</td>\n",
       "      <td>1</td>\n",
       "      <td>N/A</td>\n",
       "      <td>99999.0</td>\n",
       "      <td>NaN</td>\n",
       "      <td>107.0</td>\n",
       "    </tr>\n",
       "    <tr>\n",
       "      <th>298</th>\n",
       "      <td>BMW</td>\n",
       "      <td>BMW M 1000 RR</td>\n",
       "      <td>0</td>\n",
       "      <td>999.0</td>\n",
       "      <td>4200000.0</td>\n",
       "      <td>NaN</td>\n",
       "      <td>192.0</td>\n",
       "    </tr>\n",
       "    <tr>\n",
       "      <th>302</th>\n",
       "      <td>Aprilia</td>\n",
       "      <td>Aprilia RS 660</td>\n",
       "      <td>0</td>\n",
       "      <td>659.0</td>\n",
       "      <td>1339000.0</td>\n",
       "      <td>NaN</td>\n",
       "      <td>183.0</td>\n",
       "    </tr>\n",
       "    <tr>\n",
       "      <th>308</th>\n",
       "      <td>Triumph</td>\n",
       "      <td>Triumph Tiger Sport 660</td>\n",
       "      <td>0</td>\n",
       "      <td>660.0</td>\n",
       "      <td>895000.0</td>\n",
       "      <td>NaN</td>\n",
       "      <td>206.0</td>\n",
       "    </tr>\n",
       "    <tr>\n",
       "      <th>312</th>\n",
       "      <td>Nexzu</td>\n",
       "      <td>Nexzu Mobility Dextro</td>\n",
       "      <td>1</td>\n",
       "      <td>N/A</td>\n",
       "      <td>47000.0</td>\n",
       "      <td>NaN</td>\n",
       "      <td>62.0</td>\n",
       "    </tr>\n",
       "    <tr>\n",
       "      <th>316</th>\n",
       "      <td>BMW</td>\n",
       "      <td>BMW C 400 GT</td>\n",
       "      <td>0</td>\n",
       "      <td>350.0</td>\n",
       "      <td>995000.0</td>\n",
       "      <td>NaN</td>\n",
       "      <td>202.0</td>\n",
       "    </tr>\n",
       "    <tr>\n",
       "      <th>318</th>\n",
       "      <td>Ducati</td>\n",
       "      <td>Ducati Multistrada V4</td>\n",
       "      <td>0</td>\n",
       "      <td>1158.0</td>\n",
       "      <td>1899000.0</td>\n",
       "      <td>NaN</td>\n",
       "      <td>232.0</td>\n",
       "    </tr>\n",
       "    <tr>\n",
       "      <th>319</th>\n",
       "      <td>Aprilia</td>\n",
       "      <td>Aprilia SXR 125</td>\n",
       "      <td>0</td>\n",
       "      <td>125.0</td>\n",
       "      <td>115000.0</td>\n",
       "      <td>NaN</td>\n",
       "      <td>129.0</td>\n",
       "    </tr>\n",
       "    <tr>\n",
       "      <th>343</th>\n",
       "      <td>Kawasaki</td>\n",
       "      <td>Kawasaki Z650RS</td>\n",
       "      <td>0</td>\n",
       "      <td>649.0</td>\n",
       "      <td>672000.0</td>\n",
       "      <td>NaN</td>\n",
       "      <td>192.0</td>\n",
       "    </tr>\n",
       "    <tr>\n",
       "      <th>346</th>\n",
       "      <td>Ducati</td>\n",
       "      <td>Ducati StreetFighter V4</td>\n",
       "      <td>0</td>\n",
       "      <td>1103.0</td>\n",
       "      <td>1999000.0</td>\n",
       "      <td>NaN</td>\n",
       "      <td>199.0</td>\n",
       "    </tr>\n",
       "    <tr>\n",
       "      <th>350</th>\n",
       "      <td>Aprilia</td>\n",
       "      <td>Aprilia Tuono 660</td>\n",
       "      <td>0</td>\n",
       "      <td>659.0</td>\n",
       "      <td>1309000.0</td>\n",
       "      <td>NaN</td>\n",
       "      <td>183.0</td>\n",
       "    </tr>\n",
       "    <tr>\n",
       "      <th>361</th>\n",
       "      <td>Indian</td>\n",
       "      <td>Indian Super Chief Limited</td>\n",
       "      <td>0</td>\n",
       "      <td>1890.0</td>\n",
       "      <td>2282155.0</td>\n",
       "      <td>NaN</td>\n",
       "      <td>324.0</td>\n",
       "    </tr>\n",
       "  </tbody>\n",
       "</table>\n",
       "</div>"
      ],
      "text/plain": [
       "        Brand                  Model Name  Electric      CC      Price  \\\n",
       "29      Bajaj         Bajaj Pulsar NS 125         0   124.4    93818.0   \n",
       "39       Hero          Hero XPulse 200 4V         0   199.6   130150.0   \n",
       "44      Royal     Royal Enfield Scram 411         0   411.0   203000.0   \n",
       "65     Yamaha            Yamaha Aerox 155         0   155.0   129000.0   \n",
       "72     Suzuki       Suzuki V-Strom SX 250         0   249.0   211600.0   \n",
       "97      Bajaj           Bajaj Pulsar N250         0   249.1   138000.0   \n",
       "100     Yezdi              Yezdi Roadster         0   334.0   198142.0   \n",
       "115    Yamaha                 Yamaha FZ-X         0   149.0   116800.0   \n",
       "136     Honda                Honda CB200X         0   184.4   144500.0   \n",
       "139    Yamaha            Yamaha R15S V3.0         0   155.0   158939.0   \n",
       "160     Yezdi             Yezdi Scrambler         0   334.0   204900.0   \n",
       "169     Yezdi             Yezdi Adventure         0   334.0   209900.0   \n",
       "183       TVS       TVS Apache RTR 165 RP         0   164.9   145001.0   \n",
       "188    Odysse               Odysse Evoqis         1     N/A   157000.0   \n",
       "231    Suzuki        Suzuki V-Strom 650XT         0   645.0   884000.0   \n",
       "261   Triumph         Triumph Trident 660         0   660.0   745000.0   \n",
       "262   Aprilia             Aprilia SXR 160         0   160.0   126000.0   \n",
       "263  Kawasaki           Kawasaki KLX 140G         0   144.0   406600.0   \n",
       "296    BGauss                  BGauss D15         1     N/A    99999.0   \n",
       "298       BMW               BMW M 1000 RR         0   999.0  4200000.0   \n",
       "302   Aprilia              Aprilia RS 660         0   659.0  1339000.0   \n",
       "308   Triumph     Triumph Tiger Sport 660         0   660.0   895000.0   \n",
       "312     Nexzu       Nexzu Mobility Dextro         1     N/A    47000.0   \n",
       "316       BMW                BMW C 400 GT         0   350.0   995000.0   \n",
       "318    Ducati       Ducati Multistrada V4         0  1158.0  1899000.0   \n",
       "319   Aprilia             Aprilia SXR 125         0   125.0   115000.0   \n",
       "343  Kawasaki             Kawasaki Z650RS         0   649.0   672000.0   \n",
       "346    Ducati     Ducati StreetFighter V4         0  1103.0  1999000.0   \n",
       "350   Aprilia           Aprilia Tuono 660         0   659.0  1309000.0   \n",
       "361    Indian  Indian Super Chief Limited         0  1890.0  2282155.0   \n",
       "\n",
       "    Mileage  Weight  \n",
       "29      NaN   144.0  \n",
       "39      NaN   158.0  \n",
       "44      NaN   185.0  \n",
       "65      NaN   122.0  \n",
       "72      NaN   167.0  \n",
       "97      NaN   162.0  \n",
       "100     NaN   184.0  \n",
       "115     NaN   139.0  \n",
       "136     NaN   147.0  \n",
       "139     NaN   142.0  \n",
       "160     NaN   182.0  \n",
       "169     NaN   188.0  \n",
       "183     NaN   148.0  \n",
       "188     NaN   200.0  \n",
       "231     NaN   216.0  \n",
       "261     NaN   189.0  \n",
       "262     NaN   129.0  \n",
       "263     NaN    99.0  \n",
       "296     NaN   107.0  \n",
       "298     NaN   192.0  \n",
       "302     NaN   183.0  \n",
       "308     NaN   206.0  \n",
       "312     NaN    62.0  \n",
       "316     NaN   202.0  \n",
       "318     NaN   232.0  \n",
       "319     NaN   129.0  \n",
       "343     NaN   192.0  \n",
       "346     NaN   199.0  \n",
       "350     NaN   183.0  \n",
       "361     NaN   324.0  "
      ]
     },
     "execution_count": 21,
     "metadata": {},
     "output_type": "execute_result"
    }
   ],
   "source": [
    "data.loc[data.Mileage.isnull()]"
   ]
  },
  {
   "cell_type": "markdown",
   "id": "b2397391",
   "metadata": {},
   "source": [
    "There is no relationship between missing values in Mileage column and other variables, this is a case of MCAR."
   ]
  },
  {
   "cell_type": "code",
   "execution_count": 22,
   "id": "76aa2850",
   "metadata": {},
   "outputs": [
    {
     "data": {
      "text/plain": [
       "Electric\n",
       "0     32.276223\n",
       "1    111.981132\n",
       "Name: Mileage, dtype: float64"
      ]
     },
     "execution_count": 22,
     "metadata": {},
     "output_type": "execute_result"
    }
   ],
   "source": [
    "# Lets handle the missing values on the basis of relation between CC and electric bikes \n",
    "data.groupby('Electric')['Mileage'].mean()"
   ]
  },
  {
   "cell_type": "markdown",
   "id": "ebd8b2f2",
   "metadata": {},
   "source": [
    "* Mean of electric bikes - ~112 km/full charge\n",
    "* Mean of ICE bikes - ~32 km/l\n",
    "\n",
    "We are not considering the different displacements of bikes, let's check if there is any relation b/w CC and milage."
   ]
  },
  {
   "cell_type": "code",
   "execution_count": 23,
   "id": "3c5be60e",
   "metadata": {},
   "outputs": [],
   "source": [
    "datax = data.loc[data['Electric']==0,['CC','Mileage','Weight','Price']]"
   ]
  },
  {
   "cell_type": "code",
   "execution_count": 24,
   "id": "36d0ce9f",
   "metadata": {},
   "outputs": [],
   "source": [
    "datax['CC'] = datax['CC'].astype('float')"
   ]
  },
  {
   "cell_type": "code",
   "execution_count": 25,
   "id": "36914075",
   "metadata": {},
   "outputs": [
    {
     "data": {
      "text/html": [
       "<div>\n",
       "<style scoped>\n",
       "    .dataframe tbody tr th:only-of-type {\n",
       "        vertical-align: middle;\n",
       "    }\n",
       "\n",
       "    .dataframe tbody tr th {\n",
       "        vertical-align: top;\n",
       "    }\n",
       "\n",
       "    .dataframe thead th {\n",
       "        text-align: right;\n",
       "    }\n",
       "</style>\n",
       "<table border=\"1\" class=\"dataframe\">\n",
       "  <thead>\n",
       "    <tr style=\"text-align: right;\">\n",
       "      <th></th>\n",
       "      <th>CC</th>\n",
       "      <th>Mileage</th>\n",
       "      <th>Weight</th>\n",
       "      <th>Price</th>\n",
       "    </tr>\n",
       "  </thead>\n",
       "  <tbody>\n",
       "    <tr>\n",
       "      <th>CC</th>\n",
       "      <td>1.000000</td>\n",
       "      <td>-0.732359</td>\n",
       "      <td>0.916206</td>\n",
       "      <td>0.811898</td>\n",
       "    </tr>\n",
       "    <tr>\n",
       "      <th>Mileage</th>\n",
       "      <td>-0.732359</td>\n",
       "      <td>1.000000</td>\n",
       "      <td>-0.704316</td>\n",
       "      <td>-0.630581</td>\n",
       "    </tr>\n",
       "    <tr>\n",
       "      <th>Weight</th>\n",
       "      <td>0.916206</td>\n",
       "      <td>-0.704316</td>\n",
       "      <td>1.000000</td>\n",
       "      <td>0.754903</td>\n",
       "    </tr>\n",
       "    <tr>\n",
       "      <th>Price</th>\n",
       "      <td>0.811898</td>\n",
       "      <td>-0.630581</td>\n",
       "      <td>0.754903</td>\n",
       "      <td>1.000000</td>\n",
       "    </tr>\n",
       "  </tbody>\n",
       "</table>\n",
       "</div>"
      ],
      "text/plain": [
       "               CC   Mileage    Weight     Price\n",
       "CC       1.000000 -0.732359  0.916206  0.811898\n",
       "Mileage -0.732359  1.000000 -0.704316 -0.630581\n",
       "Weight   0.916206 -0.704316  1.000000  0.754903\n",
       "Price    0.811898 -0.630581  0.754903  1.000000"
      ]
     },
     "execution_count": 25,
     "metadata": {},
     "output_type": "execute_result"
    }
   ],
   "source": [
    "datax['Mileage'] = datax['Mileage'].astype('float')\n",
    "\n",
    "datax.corr()"
   ]
  },
  {
   "cell_type": "markdown",
   "id": "8330539a",
   "metadata": {},
   "source": [
    "We can observe that CC and mileage are inversely correlated, which makes sense because bikes with bigger engines are not fuel efficient.\n",
    "We also see CC and weight are correlated and mileage and weight inversely correlated. "
   ]
  },
  {
   "cell_type": "code",
   "execution_count": 26,
   "id": "ebff0f67",
   "metadata": {},
   "outputs": [
    {
     "data": {
      "text/plain": [
       "{'0-150': 64.03,\n",
       " '151-350': 49.38,\n",
       " '351-550': 47.23,\n",
       " '551-750': 45.02,\n",
       " '751-950': 39.99,\n",
       " '951-1150': 36.72,\n",
       " '1151-1350': 34.39,\n",
       " '1351-1550': 34.09,\n",
       " '1551-1750': 33.29,\n",
       " '1751-1950': 32.45,\n",
       " '1951-2150': 32.35,\n",
       " '2151-2350': 32.35}"
      ]
     },
     "execution_count": 26,
     "metadata": {},
     "output_type": "execute_result"
    }
   ],
   "source": [
    "def get_mean_cc(data):\n",
    "    mean_dict = {}\n",
    "    lower_limit = 0\n",
    "    for value in range(151,int(data.CC.max()),200):\n",
    "        mean_dict[str(lower_limit) + '-' + str(value-1)] = round(data.loc[data['CC'].between(0,value),'Mileage'].mean(),2)\n",
    "        lower_limit = value\n",
    "    return mean_dict\n",
    "get_mean_cc(datax)"
   ]
  },
  {
   "cell_type": "code",
   "execution_count": 27,
   "id": "00482d6d",
   "metadata": {},
   "outputs": [
    {
     "data": {
      "text/plain": [
       "{'0-100': 65.12,\n",
       " '100-180': 47.05,\n",
       " '180-260': 34.81,\n",
       " '260-340': 33.45,\n",
       " '340-420': 32.4}"
      ]
     },
     "execution_count": 27,
     "metadata": {},
     "output_type": "execute_result"
    }
   ],
   "source": [
    "def get_mean_weight(data):\n",
    "    mean_dict = {}\n",
    "    lower_limit = 0\n",
    "    for value in range(100,int(data.Weight.max()),80):\n",
    "        mean_dict[str(lower_limit) + '-' + str(value)] = round(data.loc[data['Weight'].between(0,value),'Mileage'].mean(),2)\n",
    "        lower_limit = value\n",
    "    return mean_dict\n",
    "mean_weight = get_mean_weight(datax)\n",
    "mean_weight"
   ]
  },
  {
   "cell_type": "markdown",
   "id": "4c98d059",
   "metadata": {},
   "source": [
    "We can use both set of mean values to fill the missing values of ICE bikes in mileage column.\n"
   ]
  },
  {
   "cell_type": "code",
   "execution_count": 28,
   "id": "2e4ea991",
   "metadata": {},
   "outputs": [],
   "source": [
    "split = lambda key: key.split('-')\n",
    "for l,h in map(split,mean_weight):\n",
    "    condition = (data['Electric']==0) & (data['Weight'].between(int(l),int(h)))\n",
    "    if data.loc[condition, 'Mileage'].isnull().sum() == 0:\n",
    "        continue\n",
    "    data.loc[condition,'Mileage'] = data.loc[condition,'Mileage'].fillna(mean_weight[l+'-'+h])    "
   ]
  },
  {
   "cell_type": "code",
   "execution_count": 29,
   "id": "a295a53b",
   "metadata": {},
   "outputs": [],
   "source": [
    "data['Mileage'] = data['Mileage'].fillna(112)"
   ]
  },
  {
   "cell_type": "code",
   "execution_count": 30,
   "id": "f0f450d4",
   "metadata": {},
   "outputs": [
    {
     "data": {
      "text/plain": [
       "Brand         0\n",
       "Model Name    0\n",
       "Electric      0\n",
       "CC            0\n",
       "Price         0\n",
       "Mileage       0\n",
       "Weight        0\n",
       "dtype: int64"
      ]
     },
     "execution_count": 30,
     "metadata": {},
     "output_type": "execute_result"
    }
   ],
   "source": [
    "data.isnull().sum()"
   ]
  },
  {
   "cell_type": "markdown",
   "id": "c0fc0cee",
   "metadata": {},
   "source": [
    "Successfully handled all the NaN values from different variables."
   ]
  },
  {
   "cell_type": "markdown",
   "id": "a1280b03",
   "metadata": {},
   "source": [
    "## Data Analysis"
   ]
  },
  {
   "cell_type": "code",
   "execution_count": 31,
   "id": "d6b9992d",
   "metadata": {},
   "outputs": [
    {
     "data": {
      "text/html": [
       "<div>\n",
       "<style scoped>\n",
       "    .dataframe tbody tr th:only-of-type {\n",
       "        vertical-align: middle;\n",
       "    }\n",
       "\n",
       "    .dataframe tbody tr th {\n",
       "        vertical-align: top;\n",
       "    }\n",
       "\n",
       "    .dataframe thead th {\n",
       "        text-align: right;\n",
       "    }\n",
       "</style>\n",
       "<table border=\"1\" class=\"dataframe\">\n",
       "  <thead>\n",
       "    <tr style=\"text-align: right;\">\n",
       "      <th></th>\n",
       "      <th>Electric</th>\n",
       "      <th>Price</th>\n",
       "      <th>Mileage</th>\n",
       "      <th>Weight</th>\n",
       "    </tr>\n",
       "  </thead>\n",
       "  <tbody>\n",
       "    <tr>\n",
       "      <th>count</th>\n",
       "      <td>361.000000</td>\n",
       "      <td>3.610000e+02</td>\n",
       "      <td>361.000000</td>\n",
       "      <td>361.000000</td>\n",
       "    </tr>\n",
       "    <tr>\n",
       "      <th>mean</th>\n",
       "      <td>0.155125</td>\n",
       "      <td>8.399079e+05</td>\n",
       "      <td>45.283241</td>\n",
       "      <td>178.839335</td>\n",
       "    </tr>\n",
       "    <tr>\n",
       "      <th>std</th>\n",
       "      <td>0.362526</td>\n",
       "      <td>1.052083e+06</td>\n",
       "      <td>39.496387</td>\n",
       "      <td>73.839516</td>\n",
       "    </tr>\n",
       "    <tr>\n",
       "      <th>min</th>\n",
       "      <td>0.000000</td>\n",
       "      <td>3.800000e+04</td>\n",
       "      <td>8.000000</td>\n",
       "      <td>55.000000</td>\n",
       "    </tr>\n",
       "    <tr>\n",
       "      <th>25%</th>\n",
       "      <td>0.000000</td>\n",
       "      <td>1.000000e+05</td>\n",
       "      <td>20.000000</td>\n",
       "      <td>118.000000</td>\n",
       "    </tr>\n",
       "    <tr>\n",
       "      <th>50%</th>\n",
       "      <td>0.000000</td>\n",
       "      <td>2.420000e+05</td>\n",
       "      <td>34.810000</td>\n",
       "      <td>169.000000</td>\n",
       "    </tr>\n",
       "    <tr>\n",
       "      <th>75%</th>\n",
       "      <td>0.000000</td>\n",
       "      <td>1.459000e+06</td>\n",
       "      <td>55.000000</td>\n",
       "      <td>216.000000</td>\n",
       "    </tr>\n",
       "    <tr>\n",
       "      <th>max</th>\n",
       "      <td>1.000000</td>\n",
       "      <td>7.990000e+06</td>\n",
       "      <td>320.000000</td>\n",
       "      <td>433.000000</td>\n",
       "    </tr>\n",
       "  </tbody>\n",
       "</table>\n",
       "</div>"
      ],
      "text/plain": [
       "         Electric         Price     Mileage      Weight\n",
       "count  361.000000  3.610000e+02  361.000000  361.000000\n",
       "mean     0.155125  8.399079e+05   45.283241  178.839335\n",
       "std      0.362526  1.052083e+06   39.496387   73.839516\n",
       "min      0.000000  3.800000e+04    8.000000   55.000000\n",
       "25%      0.000000  1.000000e+05   20.000000  118.000000\n",
       "50%      0.000000  2.420000e+05   34.810000  169.000000\n",
       "75%      0.000000  1.459000e+06   55.000000  216.000000\n",
       "max      1.000000  7.990000e+06  320.000000  433.000000"
      ]
     },
     "execution_count": 31,
     "metadata": {},
     "output_type": "execute_result"
    }
   ],
   "source": [
    "data.describe()"
   ]
  },
  {
   "cell_type": "markdown",
   "id": "1d6ff07a",
   "metadata": {},
   "source": [
    "Graph showing every company's total number of models available for sale in Indian market "
   ]
  },
  {
   "cell_type": "code",
   "execution_count": 32,
   "id": "3ee50837",
   "metadata": {},
   "outputs": [
    {
     "data": {
      "image/png": "[encoded data removed]",
      "text/plain": [
       "<Figure size 792x432 with 1 Axes>"
      ]
     },
     "metadata": {
      "needs_background": "light"
     },
     "output_type": "display_data"
    }
   ],
   "source": [
    "plt.figure(figsize=(11,6))\n",
    "sns.countplot(data= data, x= data['Brand'])\n",
    "plt.xticks(rotation=90)\n",
    "plt.show()"
   ]
  },
  {
   "cell_type": "markdown",
   "id": "3b1fe244",
   "metadata": {},
   "source": [
    "Kawasaki has most number of models in Indian market."
   ]
  },
  {
   "cell_type": "code",
   "execution_count": 33,
   "id": "65d01cd1",
   "metadata": {},
   "outputs": [
    {
     "data": {
      "image/png": "[encoded data removed]",
      "text/plain": [
       "<Figure size 1152x360 with 3 Axes>"
      ]
     },
     "metadata": {
      "needs_background": "light"
     },
     "output_type": "display_data"
    }
   ],
   "source": [
    "def plot_continuous(data,column):\n",
    "    plt.figure(figsize=(16,5))\n",
    "    plt.subplot(1,3,1)\n",
    "    sns.histplot(data[column],color='blue')\n",
    "    plt.subplot(1,3,2)\n",
    "    sns.boxplot(data=data, x= column, color= 'yellow')\n",
    "    plt.subplot(1,3,3)\n",
    "    sns.kdeplot(data=data, x= column)\n",
    "    plt.show()\n",
    "\n",
    "\n",
    "plot_continuous(data[data['Electric'] == 0],'Price')"
   ]
  },
  {
   "cell_type": "code",
   "execution_count": 34,
   "id": "3a35612d",
   "metadata": {},
   "outputs": [
    {
     "data": {
      "text/plain": [
       "<AxesSubplot:xlabel='Price', ylabel='Count'>"
      ]
     },
     "execution_count": 34,
     "metadata": {},
     "output_type": "execute_result"
    },
    {
     "data": {
      "image/png": "[encoded data removed]",
      "text/plain": [
       "<Figure size 432x288 with 1 Axes>"
      ]
     },
     "metadata": {
      "needs_background": "light"
     },
     "output_type": "display_data"
    }
   ],
   "source": [
    "sns.histplot(data['Price'],color= 'orange')"
   ]
  },
  {
   "cell_type": "markdown",
   "id": "a5c2806b",
   "metadata": {},
   "source": [
    "Most bikes sold in India cost less than 1 lakh INR (~1225.66 USD), which is a price bracket with most fuel efficient bikes and people tend to lean towards these a lot."
   ]
  },
  {
   "cell_type": "code",
   "execution_count": 35,
   "id": "04f08779",
   "metadata": {},
   "outputs": [
    {
     "data": {
      "image/png": "[encoded data removed]",
      "text/plain": [
       "<Figure size 432x288 with 1 Axes>"
      ]
     },
     "metadata": {
      "needs_background": "light"
     },
     "output_type": "display_data"
    }
   ],
   "source": [
    "sns.countplot(data= data, x = 'Electric')\n",
    "plt.xticks([0,1],['ICE','Electric'])\n",
    "plt.show()"
   ]
  },
  {
   "cell_type": "markdown",
   "id": "a76cc8f0",
   "metadata": {},
   "source": [
    "ICE bikes are dominant in Indian market, it will take few more years to transition to electric bikes or EVs in general.  "
   ]
  },
  {
   "cell_type": "code",
   "execution_count": 36,
   "id": "c00c1c59",
   "metadata": {},
   "outputs": [
    {
     "data": {
      "text/plain": [
       "<AxesSubplot:xlabel='CC', ylabel='Count'>"
      ]
     },
     "execution_count": 36,
     "metadata": {},
     "output_type": "execute_result"
    },
    {
     "data": {
      "image/png": "[encoded data removed]",
      "text/plain": [
       "<Figure size 432x288 with 1 Axes>"
      ]
     },
     "metadata": {
      "needs_background": "light"
     },
     "output_type": "display_data"
    }
   ],
   "source": [
    "sns.histplot(data=data[data['Electric']==0],x='CC', color='green')"
   ]
  },
  {
   "cell_type": "code",
   "execution_count": 37,
   "id": "eca4649a",
   "metadata": {},
   "outputs": [
    {
     "data": {
      "text/plain": [
       "<AxesSubplot:xlabel='CC'>"
      ]
     },
     "execution_count": 37,
     "metadata": {},
     "output_type": "execute_result"
    },
    {
     "data": {
      "image/png": "[encoded data removed]",
      "text/plain": [
       "<Figure size 432x288 with 1 Axes>"
      ]
     },
     "metadata": {
      "needs_background": "light"
     },
     "output_type": "display_data"
    }
   ],
   "source": [
    "sns.boxplot(data=data[data['Electric']==0],x='CC')"
   ]
  },
  {
   "cell_type": "code",
   "execution_count": 38,
   "id": "eafe5408",
   "metadata": {},
   "outputs": [
    {
     "data": {
      "text/plain": [
       "<AxesSubplot:xlabel='CC', ylabel='Density'>"
      ]
     },
     "execution_count": 38,
     "metadata": {},
     "output_type": "execute_result"
    },
    {
     "data": {
      "image/png": "[encoded data removed]",
      "text/plain": [
       "<Figure size 432x288 with 1 Axes>"
      ]
     },
     "metadata": {
      "needs_background": "light"
     },
     "output_type": "display_data"
    }
   ],
   "source": [
    "sns.kdeplot(data=data[data['Electric']==0],x='CC')"
   ]
  },
  {
   "cell_type": "markdown",
   "id": "e1082af4",
   "metadata": {},
   "source": [
    "Most bikes available in India have, more or less, an engine displacement of 250cc. "
   ]
  },
  {
   "cell_type": "code",
   "execution_count": 39,
   "id": "ad64ea49",
   "metadata": {},
   "outputs": [
    {
     "data": {
      "text/plain": [
       "<AxesSubplot:xlabel='Mileage'>"
      ]
     },
     "execution_count": 39,
     "metadata": {},
     "output_type": "execute_result"
    },
    {
     "data": {
      "image/png": "[encoded data removed]",
      "text/plain": [
       "<Figure size 432x288 with 1 Axes>"
      ]
     },
     "metadata": {
      "needs_background": "light"
     },
     "output_type": "display_data"
    }
   ],
   "source": [
    "sns.boxplot(data=data[data['Electric']==0],x='Mileage')"
   ]
  },
  {
   "cell_type": "markdown",
   "id": "87a2359f",
   "metadata": {},
   "source": [
    "### Top 10 companies with most models in Indian market"
   ]
  },
  {
   "cell_type": "code",
   "execution_count": 40,
   "id": "7c3811d0",
   "metadata": {},
   "outputs": [
    {
     "data": {
      "text/plain": [
       "Kawasaki           31\n",
       "BMW                26\n",
       "Ducati             24\n",
       "Honda              23\n",
       "Hero               23\n",
       "Bajaj              20\n",
       "TVS                19\n",
       "Triumph            17\n",
       "Yamaha             16\n",
       "Harley-Davidson    16\n",
       "Name: Brand, dtype: int64"
      ]
     },
     "execution_count": 40,
     "metadata": {},
     "output_type": "execute_result"
    }
   ],
   "source": [
    "top10 = data['Brand'].value_counts().head(10)\n",
    "top10"
   ]
  },
  {
   "cell_type": "code",
   "execution_count": 42,
   "id": "53853294",
   "metadata": {},
   "outputs": [
    {
     "data": {
      "image/png": "[encoded data removed]",
      "text/plain": [
       "<Figure size 792x432 with 1 Axes>"
      ]
     },
     "metadata": {
      "needs_background": "light"
     },
     "output_type": "display_data"
    }
   ],
   "source": [
    "plt.figure(figsize=(11,6))\n",
    "sns.countplot(x= data.loc[data['Brand'].isin(top10.index),'Brand'])\n",
    "plt.ylim(5,35)\n",
    "plt.xlabel(\"Companies\")\n",
    "plt.ylabel('No. of bikes')\n",
    "plt.title('Top 10 Companies')\n",
    "plt.show()"
   ]
  },
  {
   "cell_type": "markdown",
   "id": "858eaf36",
   "metadata": {},
   "source": [
    "Kawasaki, BMW, Ducati are brands with most models. "
   ]
  },
  {
   "cell_type": "markdown",
   "id": "fe4f17cb",
   "metadata": {},
   "source": [
    "### Which company makes bikes with best mileage?"
   ]
  },
  {
   "cell_type": "code",
   "execution_count": 43,
   "id": "23f3a0a3",
   "metadata": {},
   "outputs": [
    {
     "data": {
      "text/plain": [
       "Brand\n",
       "Hero      62.025000\n",
       "Lohia     60.000000\n",
       "TVS       56.247222\n",
       "Bajaj     53.868421\n",
       "Suzuki    45.169091\n",
       "Name: Mileage, dtype: float64"
      ]
     },
     "execution_count": 43,
     "metadata": {},
     "output_type": "execute_result"
    }
   ],
   "source": [
    "bestMileage = data[data['Electric'] == 0].groupby('Brand')['Mileage'].mean().nlargest(5)\n",
    "bestMileage"
   ]
  },
  {
   "cell_type": "code",
   "execution_count": 44,
   "id": "3ee4bd81",
   "metadata": {},
   "outputs": [
    {
     "data": {
      "image/png": "[encoded data removed]",
      "text/plain": [
       "<Figure size 720x432 with 1 Axes>"
      ]
     },
     "metadata": {
      "needs_background": "light"
     },
     "output_type": "display_data"
    }
   ],
   "source": [
    "plt.figure(figsize=(10,6))\n",
    "sns.barplot(y=bestMileage.index, x= bestMileage.values, orient= 'h')\n",
    "plt.xlabel(\"Average mileage of all bikes\")\n",
    "plt.ylabel('Companies')\n",
    "plt.title(\"Top 5 companies with best mileage\")\n",
    "plt.show()"
   ]
  },
  {
   "cell_type": "markdown",
   "id": "4d3a5295",
   "metadata": {},
   "source": [
    "Hero is the market leader in this segment."
   ]
  },
  {
   "cell_type": "markdown",
   "id": "c4dea0f5",
   "metadata": {},
   "source": [
    "### Which are the top 10 luxury bike brands?"
   ]
  },
  {
   "cell_type": "code",
   "execution_count": 45,
   "id": "69d50006",
   "metadata": {},
   "outputs": [
    {
     "data": {
      "text/html": [
       "<div>\n",
       "<style scoped>\n",
       "    .dataframe tbody tr th:only-of-type {\n",
       "        vertical-align: middle;\n",
       "    }\n",
       "\n",
       "    .dataframe tbody tr th {\n",
       "        vertical-align: top;\n",
       "    }\n",
       "\n",
       "    .dataframe thead th {\n",
       "        text-align: right;\n",
       "    }\n",
       "</style>\n",
       "<table border=\"1\" class=\"dataframe\">\n",
       "  <thead>\n",
       "    <tr style=\"text-align: right;\">\n",
       "      <th></th>\n",
       "      <th>mean</th>\n",
       "      <th>max</th>\n",
       "    </tr>\n",
       "    <tr>\n",
       "      <th>Brand</th>\n",
       "      <th></th>\n",
       "      <th></th>\n",
       "    </tr>\n",
       "  </thead>\n",
       "  <tbody>\n",
       "    <tr>\n",
       "      <th>Indian</th>\n",
       "      <td>2.558467e+06</td>\n",
       "      <td>4800000.0</td>\n",
       "    </tr>\n",
       "    <tr>\n",
       "      <th>MV</th>\n",
       "      <td>2.288326e+06</td>\n",
       "      <td>3883000.0</td>\n",
       "    </tr>\n",
       "    <tr>\n",
       "      <th>Avantura</th>\n",
       "      <td>2.265000e+06</td>\n",
       "      <td>2390000.0</td>\n",
       "    </tr>\n",
       "    <tr>\n",
       "      <th>Moto</th>\n",
       "      <td>2.034167e+06</td>\n",
       "      <td>3026000.0</td>\n",
       "    </tr>\n",
       "    <tr>\n",
       "      <th>Harley-Davidson</th>\n",
       "      <td>1.939500e+06</td>\n",
       "      <td>4999000.0</td>\n",
       "    </tr>\n",
       "    <tr>\n",
       "      <th>BMW</th>\n",
       "      <td>1.789000e+06</td>\n",
       "      <td>4200000.0</td>\n",
       "    </tr>\n",
       "    <tr>\n",
       "      <th>Ducati</th>\n",
       "      <td>1.627338e+06</td>\n",
       "      <td>5182000.0</td>\n",
       "    </tr>\n",
       "    <tr>\n",
       "      <th>Kawasaki</th>\n",
       "      <td>1.364384e+06</td>\n",
       "      <td>7990000.0</td>\n",
       "    </tr>\n",
       "    <tr>\n",
       "      <th>Triumph</th>\n",
       "      <td>1.193294e+06</td>\n",
       "      <td>1990000.0</td>\n",
       "    </tr>\n",
       "    <tr>\n",
       "      <th>Aprilia</th>\n",
       "      <td>7.710253e+05</td>\n",
       "      <td>2369000.0</td>\n",
       "    </tr>\n",
       "  </tbody>\n",
       "</table>\n",
       "</div>"
      ],
      "text/plain": [
       "                         mean        max\n",
       "Brand                                   \n",
       "Indian           2.558467e+06  4800000.0\n",
       "MV               2.288326e+06  3883000.0\n",
       "Avantura         2.265000e+06  2390000.0\n",
       "Moto             2.034167e+06  3026000.0\n",
       "Harley-Davidson  1.939500e+06  4999000.0\n",
       "BMW              1.789000e+06  4200000.0\n",
       "Ducati           1.627338e+06  5182000.0\n",
       "Kawasaki         1.364384e+06  7990000.0\n",
       "Triumph          1.193294e+06  1990000.0\n",
       "Aprilia          7.710253e+05  2369000.0"
      ]
     },
     "execution_count": 45,
     "metadata": {},
     "output_type": "execute_result"
    }
   ],
   "source": [
    "data[data['Electric']==0].groupby('Brand')['Price'].agg(['mean','max']).nlargest(10,'mean')"
   ]
  },
  {
   "cell_type": "code",
   "execution_count": 46,
   "id": "307ada8a",
   "metadata": {},
   "outputs": [
    {
     "data": {
      "text/html": [
       "<div>\n",
       "<style scoped>\n",
       "    .dataframe tbody tr th:only-of-type {\n",
       "        vertical-align: middle;\n",
       "    }\n",
       "\n",
       "    .dataframe tbody tr th {\n",
       "        vertical-align: top;\n",
       "    }\n",
       "\n",
       "    .dataframe thead th {\n",
       "        text-align: right;\n",
       "    }\n",
       "</style>\n",
       "<table border=\"1\" class=\"dataframe\">\n",
       "  <thead>\n",
       "    <tr style=\"text-align: right;\">\n",
       "      <th></th>\n",
       "      <th>mean</th>\n",
       "      <th>max</th>\n",
       "    </tr>\n",
       "    <tr>\n",
       "      <th>Brand</th>\n",
       "      <th></th>\n",
       "      <th></th>\n",
       "    </tr>\n",
       "  </thead>\n",
       "  <tbody>\n",
       "    <tr>\n",
       "      <th>Kawasaki</th>\n",
       "      <td>1.364384e+06</td>\n",
       "      <td>7990000.0</td>\n",
       "    </tr>\n",
       "    <tr>\n",
       "      <th>Ducati</th>\n",
       "      <td>1.627338e+06</td>\n",
       "      <td>5182000.0</td>\n",
       "    </tr>\n",
       "    <tr>\n",
       "      <th>Harley-Davidson</th>\n",
       "      <td>1.939500e+06</td>\n",
       "      <td>4999000.0</td>\n",
       "    </tr>\n",
       "    <tr>\n",
       "      <th>Indian</th>\n",
       "      <td>2.558467e+06</td>\n",
       "      <td>4800000.0</td>\n",
       "    </tr>\n",
       "    <tr>\n",
       "      <th>BMW</th>\n",
       "      <td>1.789000e+06</td>\n",
       "      <td>4200000.0</td>\n",
       "    </tr>\n",
       "    <tr>\n",
       "      <th>Honda</th>\n",
       "      <td>6.189709e+05</td>\n",
       "      <td>3971822.0</td>\n",
       "    </tr>\n",
       "    <tr>\n",
       "      <th>MV</th>\n",
       "      <td>2.288326e+06</td>\n",
       "      <td>3883000.0</td>\n",
       "    </tr>\n",
       "    <tr>\n",
       "      <th>Moto</th>\n",
       "      <td>2.034167e+06</td>\n",
       "      <td>3026000.0</td>\n",
       "    </tr>\n",
       "    <tr>\n",
       "      <th>Avantura</th>\n",
       "      <td>2.265000e+06</td>\n",
       "      <td>2390000.0</td>\n",
       "    </tr>\n",
       "    <tr>\n",
       "      <th>Aprilia</th>\n",
       "      <td>7.710253e+05</td>\n",
       "      <td>2369000.0</td>\n",
       "    </tr>\n",
       "  </tbody>\n",
       "</table>\n",
       "</div>"
      ],
      "text/plain": [
       "                         mean        max\n",
       "Brand                                   \n",
       "Kawasaki         1.364384e+06  7990000.0\n",
       "Ducati           1.627338e+06  5182000.0\n",
       "Harley-Davidson  1.939500e+06  4999000.0\n",
       "Indian           2.558467e+06  4800000.0\n",
       "BMW              1.789000e+06  4200000.0\n",
       "Honda            6.189709e+05  3971822.0\n",
       "MV               2.288326e+06  3883000.0\n",
       "Moto             2.034167e+06  3026000.0\n",
       "Avantura         2.265000e+06  2390000.0\n",
       "Aprilia          7.710253e+05  2369000.0"
      ]
     },
     "execution_count": 46,
     "metadata": {},
     "output_type": "execute_result"
    }
   ],
   "source": [
    "data[data['Electric']==0].groupby('Brand')['Price'].agg(['mean','max']).nlargest(10,'max')"
   ]
  },
  {
   "cell_type": "markdown",
   "id": "f5d4f8d2",
   "metadata": {},
   "source": [
    "Indian is the top luxury brand and Kawaski has the most expensive bike for sale. "
   ]
  },
  {
   "cell_type": "markdown",
   "id": "fc26ccf5",
   "metadata": {},
   "source": [
    "# Conclusion - \n",
    "\n",
    "#### According to the trends in the Indian motorcycle market, a lot of manufacturers have good fuel efficient bikes as petrol is expensive in India and these bikes are very affordable so in plenty of cases it's the only mode of transport for an average Indian. \n",
    "\n",
    "\n",
    "#### There are plenty of electric bike manufacturers in the market and their sales are steadily growing. People are flocking towards EVs because of government subsidies and tax exemptions which compensate for their high price. But then there are reports like these https://www.engineeringity.com/2022/10/why-indian-brands-are-selling-rebadged-chinese-Evs.html which are concerning regarding the whole EV scene in India. Most of these companies/start-ups sell their bikes in the name of  'Make in India' campaign but do nothing more than just badge engineering. \n",
    "\n",
    "\n",
    "#### Finally, the high-end luxury bike market is niche in India due to only a few percentage of population being able to afford them but a lot of foreign players have entered the market."
   ]
  },
  {
   "cell_type": "code",
   "execution_count": null,
   "id": "2a9a62d7",
   "metadata": {},
   "outputs": [],
   "source": []
  }
 ],
 "metadata": {
  "celltoolbar": "Attachments",
  "kernelspec": {
   "display_name": "Python 3 (ipykernel)",
   "language": "python",
   "name": "python3"
  },
  "language_info": {
   "codemirror_mode": {
    "name": "ipython",
    "version": 3
   },
   "file_extension": ".py",
   "mimetype": "text/x-python",
   "name": "python",
   "nbconvert_exporter": "python",
   "pygments_lexer": "ipython3",
   "version": "3.9.2"
  }
 },
 "nbformat": 4,
 "nbformat_minor": 5
}
